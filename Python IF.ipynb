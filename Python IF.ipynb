{
 "cells": [
  {
   "cell_type": "code",
   "execution_count": 3,
   "metadata": {},
   "outputs": [
    {
     "name": "stdout",
     "output_type": "stream",
     "text": [
      "vne\n"
     ]
    }
   ],
   "source": [
    "a = 3\n",
    "b = 2\n",
    "if a < b:\n",
    "    print('a menshe b')\n",
    "    print('a точно меньше чем b')\n",
    "    \n",
    "print('vne')"
   ]
  },
  {
   "cell_type": "code",
   "execution_count": 6,
   "metadata": {},
   "outputs": [
    {
     "name": "stdout",
     "output_type": "stream",
     "text": [
      "c libo bolshe chem d libo ravno\n",
      "eqweqwe\n",
      "vne bloka\n"
     ]
    }
   ],
   "source": [
    "c = 5\n",
    "d = 4\n",
    "if c < d:\n",
    "    print('c menshe d')\n",
    "else: \n",
    "    print('c libo bolshe chem d libo ravno')\n",
    "    print('eqweqwe')\n",
    "\n",
    "print('vne bloka')"
   ]
  },
  {
   "cell_type": "code",
   "execution_count": 19,
   "metadata": {},
   "outputs": [
    {
     "name": "stdout",
     "output_type": "stream",
     "text": [
      "e libo bolshe\n"
     ]
    }
   ],
   "source": [
    "e = 17\n",
    "f = 8\n",
    "if e < f:\n",
    "    print('e menshe chem f')\n",
    "elif e == f:\n",
    "    print('e ravno f')\n",
    "elif e > f + 10:\n",
    "    print('plus desyat')\n",
    "else: \n",
    "    print('e libo bolshe')"
   ]
  },
  {
   "cell_type": "code",
   "execution_count": 22,
   "metadata": {},
   "outputs": [
    {
     "name": "stdout",
     "output_type": "stream",
     "text": [
      "g bolshe h\n"
     ]
    }
   ],
   "source": [
    "g = 9\n",
    "h = 8\n",
    "if g < h:\n",
    "    print('g menshe chem h')\n",
    "else: \n",
    "    if g == h:\n",
    "        print('g ravno h')\n",
    "    else:\n",
    "        print('g bolshe h')"
   ]
  },
  {
   "cell_type": "code",
   "execution_count": 29,
   "metadata": {},
   "outputs": [
    {
     "name": "stdout",
     "output_type": "stream",
     "text": [
      "индекс массы тела: 25.0\n",
      "At Tom est l ves\n"
     ]
    }
   ],
   "source": [
    "name = 'Tom'\n",
    "height = 2\n",
    "weight = 100\n",
    "\n",
    "bmi = weight / (height * height)\n",
    "print('индекс массы тела: ' + str(bmi))\n",
    "\n",
    "if bmi < 25:\n",
    "    print('At ' + name + \" net l vesa\")\n",
    "else: \n",
    "    print('At ' + name + \" est l ves\")\n",
    "    "
   ]
  },
  {
   "cell_type": "code",
   "execution_count": null,
   "metadata": {},
   "outputs": [],
   "source": []
  }
 ],
 "metadata": {
  "kernelspec": {
   "display_name": "Python 3",
   "language": "python",
   "name": "python3"
  },
  "language_info": {
   "codemirror_mode": {
    "name": "ipython",
    "version": 3
   },
   "file_extension": ".py",
   "mimetype": "text/x-python",
   "name": "python",
   "nbconvert_exporter": "python",
   "pygments_lexer": "ipython3",
   "version": "3.8.3"
  }
 },
 "nbformat": 4,
 "nbformat_minor": 4
}
